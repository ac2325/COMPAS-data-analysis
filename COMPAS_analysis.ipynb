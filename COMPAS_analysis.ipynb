{
 "cells": [
  {
   "cell_type": "code",
   "execution_count": 1,
   "id": "9ae1298e-279e-4d11-999f-5f512d1329d9",
   "metadata": {},
   "outputs": [
    {
     "name": "stdout",
     "output_type": "stream",
     "text": [
      "   id                name   first         last compas_screening_date   sex  \\\n",
      "0   1    miguel hernandez  miguel    hernandez            2013-08-14  Male   \n",
      "1   3         kevon dixon   kevon        dixon            2013-01-27  Male   \n",
      "2   4            ed philo      ed        philo            2013-04-14  Male   \n",
      "3   5         marcu brown   marcu        brown            2013-01-13  Male   \n",
      "4   6  bouthy pierrelouis  bouthy  pierrelouis            2013-03-26  Male   \n",
      "\n",
      "          dob  age          age_cat              race  ...  v_decile_score  \\\n",
      "0  1947-04-18   69  Greater than 45             Other  ...               1   \n",
      "1  1982-01-22   34          25 - 45  African-American  ...               1   \n",
      "2  1991-05-14   24     Less than 25  African-American  ...               3   \n",
      "3  1993-01-21   23     Less than 25  African-American  ...               6   \n",
      "4  1973-01-22   43          25 - 45             Other  ...               1   \n",
      "\n",
      "   v_score_text  v_screening_date  in_custody  out_custody  priors_count.1  \\\n",
      "0           Low        2013-08-14  2014-07-07   2014-07-14               0   \n",
      "1           Low        2013-01-27  2013-01-26   2013-02-05               0   \n",
      "2           Low        2013-04-14  2013-06-16   2013-06-16               4   \n",
      "3        Medium        2013-01-13         NaN          NaN               1   \n",
      "4           Low        2013-03-26         NaN          NaN               2   \n",
      "\n",
      "  start   end event two_year_recid  \n",
      "0     0   327     0              0  \n",
      "1     9   159     1              1  \n",
      "2     0    63     0              1  \n",
      "3     0  1174     0              0  \n",
      "4     0  1102     0              0  \n",
      "\n",
      "[5 rows x 53 columns]\n"
     ]
    }
   ],
   "source": [
    "import pandas as pd\n",
    "\n",
    "# Read the CSV file\n",
    "raw_data = pd.read_csv(\"./compas-scores-two-years.csv\")\n",
    "print(raw_data.head())"
   ]
  },
  {
   "cell_type": "markdown",
   "id": "4b877b37-6aec-4bb6-8739-c13132e8c6de",
   "metadata": {},
   "source": [
    "Some rows of the bove dataset are removed during the data cleaning process. There reasonss to remove these rows are:\n",
    "\n",
    "- Rows where the charge date of a defendants COMPASs scored crime was not within 30 days from when they were arrested are removed. This is bcause it can be assumed the offence data is not accurate (based on previous work done on this dataset).\n",
    "- If the recidivist flag (is_recid) is coded as -1, it means that no COMPAS case was found for the individualand so these rows are removed.\n",
    "- Ordinary traffic offenses -- (with a c_charge_degree of 'O') does not result in Jail time are removed so they are removed."
   ]
  },
  {
   "cell_type": "code",
   "execution_count": 2,
   "id": "56a7c69e-ea47-45d2-8914-087418b43137",
   "metadata": {},
   "outputs": [
    {
     "name": "stdout",
     "output_type": "stream",
     "text": [
      "6172\n"
     ]
    }
   ],
   "source": [
    "df = raw_data[['age', 'c_charge_degree', 'race', 'age_cat', 'score_text', 'sex', 'priors_count', \n",
    "               'days_b_screening_arrest', 'decile_score', 'is_recid', 'two_year_recid', \n",
    "               'c_jail_in', 'c_jail_out']]\n",
    "\n",
    "# Filter rows based on conditions above\n",
    "df = df[(df['days_b_screening_arrest'] <= 30) & (df['days_b_screening_arrest'] >= -30)]\n",
    "df = df[df['is_recid'] != -1]\n",
    "df = df[df['c_charge_degree'] != 'O']\n",
    "df = df[df['score_text'] != 'N/A']\n",
    "\n",
    "print(df.shape[0])  # Print the number of rows in the filtered DataFrame\n"
   ]
  },
  {
   "cell_type": "markdown",
   "id": "0c3e1f34-4e22-4aeb-b18b-9f49292dc2e7",
   "metadata": {},
   "source": [
    "### Code below finds positive correlation between jail duration and COMPAS Score"
   ]
  },
  {
   "cell_type": "code",
   "execution_count": 4,
   "id": "314d164f-48e8-41f7-9656-b76ee537f8af",
   "metadata": {},
   "outputs": [
    {
     "name": "stdout",
     "output_type": "stream",
     "text": [
      "0.20747808478031818\n"
     ]
    }
   ],
   "source": [
    "# 'c_jail_in' and 'c_jail_out' converted to datetime\n",
    "df['c_jail_in'] = pd.to_datetime(df['c_jail_in'])\n",
    "df['c_jail_out'] = pd.to_datetime(df['c_jail_out'])\n",
    "\n",
    "# length of stay in days\n",
    "df['length_of_stay'] = (df['c_jail_out'] - df['c_jail_in']).dt.days\n",
    "\n",
    "# correlation between length_of_stay and decile_score\n",
    "correlation = df['length_of_stay'].corr(df['decile_score'])\n",
    "\n",
    "print(correlation)\n"
   ]
  },
  {
   "cell_type": "code",
   "execution_count": 5,
   "id": "57e347ea-1a3b-4f50-a57c-16be5c93b6f5",
   "metadata": {},
   "outputs": [
    {
     "name": "stdout",
     "output_type": "stream",
     "text": [
      "age_cat\n",
      "25 - 45            3532\n",
      "Less than 25       1347\n",
      "Greater than 45    1293\n",
      "Name: count, dtype: int64\n"
     ]
    }
   ],
   "source": [
    "age_cat_summary = df['age_cat'].value_counts()\n",
    "\n",
    "print(age_cat_summary)"
   ]
  },
  {
   "cell_type": "code",
   "execution_count": 6,
   "id": "8ab04357-a175-44c2-a43e-96a3d579e548",
   "metadata": {},
   "outputs": [
    {
     "name": "stdout",
     "output_type": "stream",
     "text": [
      "Black defendants: 51.44%\n",
      "White defendants: 34.07%\n",
      "Hispanic defendants: 8.25%\n",
      "Asian defendants: 0.50%\n",
      "Native American defendants: 0.18%\n"
     ]
    }
   ],
   "source": [
    "print(\"Black defendants: %.2f%%\" % (3175 / 6172 * 100))\n",
    "print(\"White defendants: %.2f%%\" % (2103 / 6172 * 100))\n",
    "print(\"Hispanic defendants: %.2f%%\" % (509 / 6172 * 100))\n",
    "print(\"Asian defendants: %.2f%%\" % (31 / 6172 * 100))\n",
    "print(\"Native American defendants: %.2f%%\" % (11 / 6172 * 100))"
   ]
  },
  {
   "cell_type": "code",
   "execution_count": 7,
   "id": "c959518f-c530-4574-a103-9801b6a90be6",
   "metadata": {},
   "outputs": [
    {
     "name": "stdout",
     "output_type": "stream",
     "text": [
      "score_text\n",
      "Low       3421\n",
      "Medium    1607\n",
      "High      1144\n",
      "Name: count, dtype: int64\n"
     ]
    }
   ],
   "source": [
    "# Assuming 'df' DataFrame is already defined\n",
    "score_text_summary = df['score_text'].value_counts()\n",
    "\n",
    "print(score_text_summary)"
   ]
  },
  {
   "cell_type": "code",
   "execution_count": 15,
   "id": "aa5c85b5-ea2d-4fb0-b1b2-0ffd43a1e3fc",
   "metadata": {},
   "outputs": [
    {
     "name": "stdout",
     "output_type": "stream",
     "text": [
      "race        African-American  Caucasian  Hispanic  Other\n",
      "score_text                                              \n",
      "High                     845        223        47     22\n",
      "Low                     1346       1407       368    273\n",
      "Medium                   984        473        94     48\n"
     ]
    }
   ],
   "source": [
    "import pandas as pd\n",
    "\n",
    "# Assuming 'df' DataFrame is already defined\n",
    "cross_tab = pd.crosstab(df['score_text'], df['race'])\n",
    "cross_tab = cross_tab.drop(columns=['Native American', 'Asian'])\n",
    "print(cross_tab)"
   ]
  },
  {
   "cell_type": "code",
   "execution_count": 19,
   "id": "fc919769-2a22-4daa-91b0-84118025e020",
   "metadata": {},
   "outputs": [
    {
     "data": {
      "image/png": "[encoded data removed]",
      "text/plain": [
       "<Figure size 600x400 with 1 Axes>"
      ]
     },
     "metadata": {},
     "output_type": "display_data"
    }
   ],
   "source": [
    "import matplotlib.pyplot as plt\n",
    "import numpy as np\n",
    "\n",
    "plt.figure(figsize=(6, 4))\n",
    "\n",
    "# Define colors\n",
    "colors = plt.cm.Greys(np.linspace(0.4, 0.8, num_score_text_categories))\n",
    "\n",
    "race_categories = cross_tab.columns\n",
    "score_text_categories = cross_tab.index\n",
    "num_race_categories = len(race_categories)\n",
    "num_score_text_categories = len(score_text_categories)\n",
    "\n",
    "# Set the width of the bars\n",
    "bar_width = 0.15\n",
    "\n",
    "# Set the positions of the bars on the x-axis\n",
    "index = np.arange(num_race_categories) * (num_score_text_categories + 1.5) * bar_width\n",
    "\n",
    "# Plotting the bars\n",
    "for i, score_text in enumerate(score_text_categories):\n",
    "    plt.bar(index + (bar_width * i), cross_tab.loc[score_text], bar_width, label=score_text, color=colors[i])\n",
    "\n",
    "plt.xlabel('Race')\n",
    "plt.ylabel('Count')\n",
    "plt.title('Cross-tabulation of Score Text and Race')\n",
    "plt.xticks(index + bar_width * (num_score_text_categories - 1) / 2, race_categories)\n",
    "plt.legend(title='Score Text')\n",
    "plt.tight_layout()  # Adjust layout to prevent clipping of labels\n",
    "plt.show()"
   ]
  },
  {
   "cell_type": "code",
   "execution_count": 22,
   "id": "75bb681b-46d4-467f-a90c-456b32c05170",
   "metadata": {},
   "outputs": [
    {
     "data": {
      "image/png": "[encoded data removed]",
      "text/plain": [
       "<Figure size 800x600 with 1 Axes>"
      ]
     },
     "metadata": {},
     "output_type": "display_data"
    }
   ],
   "source": [
    "import matplotlib.pyplot as plt\n",
    "\n",
    "# Define data\n",
    "race_totals = cross_tab.sum(axis=0)\n",
    "\n",
    "# Define colors\n",
    "colors = plt.cm.Greys(np.linspace(0.4, 0.8, len(race_totals)))\n",
    "\n",
    "plt.figure(figsize=(8, 6))\n",
    "\n",
    "# Plot pie chart\n",
    "plt.pie(race_totals, labels=race_totals.index, autopct='%1.1f%%', colors=colors)\n",
    "\n",
    "#plt.title('Total Scores by Ethnic Group')\n",
    "plt.axis('equal')  # Equal aspect ratio ensures that pie is drawn as a circle\n",
    "plt.show()\n"
   ]
  },
  {
   "cell_type": "markdown",
   "id": "3443c1c0-b1f9-4a24-b555-9212bd9bf422",
   "metadata": {},
   "source": [
    "### Racial Bias in Compas"
   ]
  },
  {
   "cell_type": "code",
   "execution_count": 24,
   "id": "c5dda4cd-d830-4e8c-8281-f9b190b0a365",
   "metadata": {},
   "outputs": [
    {
     "name": "stdout",
     "output_type": "stream",
     "text": [
      "                                   Generalized Linear Model Regression Results                                   \n",
      "=================================================================================================================\n",
      "Dep. Variable:     ['score_factor[HighScore]', 'score_factor[LowScore]']   No. Observations:                 6130\n",
      "Model:                                                               GLM   Df Residuals:                     6120\n",
      "Model Family:                                                   Binomial   Df Model:                            9\n",
      "Link Function:                                                     Logit   Scale:                          1.0000\n",
      "Method:                                                             IRLS   Log-Likelihood:                -3067.9\n",
      "Date:                                                   Sat, 04 May 2024   Deviance:                       6135.7\n",
      "Time:                                                           11:17:27   Pearson chi2:                 6.03e+03\n",
      "No. Iterations:                                                        6   Pseudo R-squ. (CS):             0.3119\n",
      "Covariance Type:                                               nonrobust                                         \n",
      "=================================================================================================\n",
      "                                    coef    std err          z      P>|z|      [0.025      0.975]\n",
      "-------------------------------------------------------------------------------------------------\n",
      "Intercept                         0.4868      0.099      4.927      0.000       0.293       0.680\n",
      "gender_factor[T.Male]            -0.2219      0.080     -2.787      0.005      -0.378      -0.066\n",
      "age_factor[T.25 - 45]            -1.3088      0.076    -17.198      0.000      -1.458      -1.160\n",
      "age_factor[T.Greater than 45]    -2.6722      0.116    -23.042      0.000      -2.900      -2.445\n",
      "race_factor[T.Caucasian]         -0.4773      0.069     -6.885      0.000      -0.613      -0.341\n",
      "race_factor[T.Hispanic]          -0.9061      0.123     -7.352      0.000      -1.148      -0.665\n",
      "race_factor[T.Other]             -1.3036      0.158     -8.241      0.000      -1.614      -0.994\n",
      "priors_count                      0.2687      0.011     24.169      0.000       0.247       0.290\n",
      "crime_factor                     -0.3062      0.067     -4.589      0.000      -0.437      -0.175\n",
      "two_year_recid                    0.6760      0.064     10.533      0.000       0.550       0.802\n",
      "=================================================================================================\n"
     ]
    }
   ],
   "source": [
    "import pandas as pd\n",
    "import statsmodels.api as sm\n",
    "\n",
    "# Mutate columns to factors and relevel as necessary\n",
    "df['crime_factor'] = pd.factorize(df['c_charge_degree'])[0]\n",
    "df['age_factor'] = pd.Categorical(df['age_cat'], categories=['Less than 25', '25 - 45', 'Greater than 45'], ordered=True)\n",
    "df['race_factor'] = pd.Categorical(df['race'], categories=['African-American', 'Caucasian', 'Hispanic', 'Other'], ordered=True)\n",
    "df['gender_factor'] = pd.Categorical(df['sex'], categories=['Female', 'Male'], ordered=True)\n",
    "df['score_factor'] = df['score_text'] != 'Low'\n",
    "df['score_factor'] = df['score_factor'].replace({True: 'HighScore', False: 'LowScore'})\n",
    "\n",
    "# Perform logistic regression\n",
    "model = sm.formula.glm(formula=\"score_factor ~ gender_factor + age_factor + race_factor + priors_count + crime_factor + two_year_recid\", family=sm.families.Binomial(), data=df).fit()\n",
    "\n",
    "# Print model summary\n",
    "print(model.summary())"
   ]
  },
  {
   "cell_type": "code",
   "execution_count": 25,
   "id": "6ba86d38-5dc8-4175-8093-944159b194f1",
   "metadata": {},
   "outputs": [
    {
     "name": "stdout",
     "output_type": "stream",
     "text": [
      "                               Coefficient        P-value\n",
      "age_factor[T.Greater than 45]    -2.672206  1.764947e-117\n",
      "age_factor[T.25 - 45]            -1.308814   2.750978e-66\n",
      "race_factor[T.Other]             -1.303648   1.701683e-16\n",
      "race_factor[T.Hispanic]          -0.906091   1.951677e-13\n",
      "two_year_recid                    0.676001   6.079980e-26\n",
      "Intercept                         0.486773   8.346895e-07\n",
      "race_factor[T.Caucasian]         -0.477263   5.778006e-12\n",
      "crime_factor                     -0.306201   4.443283e-06\n",
      "priors_count                      0.268699  4.736536e-129\n",
      "gender_factor[T.Male]            -0.221913   5.312355e-03\n"
     ]
    }
   ],
   "source": [
    "# Extract coefficients and p-values\n",
    "coefficients = model.params\n",
    "p_values = model.pvalues\n",
    "\n",
    "# Combine coefficients and p-values into a DataFrame for easy interpretation\n",
    "results = pd.DataFrame({'Coefficient': coefficients, 'P-value': p_values})\n",
    "\n",
    "# Print results sorted by absolute coefficient values\n",
    "print(results.sort_values(by='Coefficient', key=abs, ascending=False))\n"
   ]
  },
  {
   "cell_type": "code",
   "execution_count": null,
   "id": "dda3230f-2191-4309-9333-897e8d044e81",
   "metadata": {},
   "outputs": [],
   "source": []
  }
 ],
 "metadata": {
  "kernelspec": {
   "display_name": "Python 3 (ipykernel)",
   "language": "python",
   "name": "python3"
  },
  "language_info": {
   "codemirror_mode": {
    "name": "ipython",
    "version": 3
   },
   "file_extension": ".py",
   "mimetype": "text/x-python",
   "name": "python",
   "nbconvert_exporter": "python",
   "pygments_lexer": "ipython3",
   "version": "3.11.5"
  }
 },
 "nbformat": 4,
 "nbformat_minor": 5
}
